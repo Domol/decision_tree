{
 "cells": [
  {
   "cell_type": "code",
   "execution_count": 1,
   "metadata": {},
   "outputs": [],
   "source": [
    "import numpy as np\n",
    "from math import log\n",
    "\n",
    "def split_data(data, n_tr=5, n_val=1):\n",
    "    m = n_tr+n_val+1\n",
    "    N = data.shape[0]\n",
    "    indices = np.random.permutation(N)\n",
    "    training_idx, val_idx, test_idx = indices[:int(n_tr * N/m)], indices[int(n_tr * N/m):int((n_tr+n_val) * N/m)], indices[int((n_tr+n_val) * N/m):]   \n",
    "    training, validation, test = data[training_idx,:], data[val_idx,:], data[test_idx,:]\n",
    "    return training, validation, test\n",
    "\n"
   ]
  },
  {
   "cell_type": "code",
   "execution_count": 33,
   "metadata": {},
   "outputs": [],
   "source": [
    "#TEST\n",
    "\n",
    "data = np.random.rand(100, 5)\n",
    "assert([len(x) for x in split_data(data,1,1)]==[33,33,34])\n",
    "assert([len(x) for x in split_data(data)]==[71, 14, 15])"
   ]
  },
  {
   "cell_type": "code",
   "execution_count": 134,
   "metadata": {},
   "outputs": [],
   "source": [
    "training_data = [\n",
    "    ['Green', 3, 0, 'Apple'],\n",
    "    ['Yellow', 3, 1, 'Apple'],\n",
    "    ['Red', 1, 2,'Grape'],\n",
    "    ['Red', 1, 1, 'Grape'],\n",
    "    ['Yellow', 2, 0, 'Lemon'],\n",
    "    ['Yellow', 1, 2, 'Lemon']\n",
    "]"
   ]
  },
  {
   "cell_type": "code",
   "execution_count": 118,
   "metadata": {},
   "outputs": [],
   "source": [
    "class Partition(object):\n",
    "    \"\"\"\n",
    "    Object for data partition b y feature of index feature_idx\n",
    "    \"\"\"\n",
    "    \n",
    "    def __init__(self, X, feature_idx, possible_classes):\n",
    "        self.feature_idx = feature_idx # for debug\n",
    "        self.possible_classes = possible_classes\n",
    "        self.possible_feature_values = np.unique(X[:,feature_idx])\n",
    "        self.decision_map = {value: [] for value in self.possible_feature_values}\n",
    "        self.N = len(X)\n",
    "        for x in X:\n",
    "            self.decision_map[x[feature_idx]].append(x)\n",
    "    \n",
    "    def score(self):\n",
    "        result = 0\n",
    "        for key in self.decision_map.keys():\n",
    "            key_result = 0\n",
    "            for cls in self.possible_classes:\n",
    "                p_class = sum(map(lambda x: x[-1] == cls, self.decision_map[key]))/len(self.decision_map[key])\n",
    "                if(p_class):\n",
    "                    key_result += -p_class * log(p_class)\n",
    "            result += key_result * (len(self.decision_map[key])/self.N)\n",
    "        return result\n",
    "    \n",
    "    def print_(self):\n",
    "        print('Feature index: %s' % self.feature_idx)\n",
    "        for k, v in self.decision_map.items():\n",
    "            print('Elements for value %s:' % k)\n",
    "            for row in v:\n",
    "                print('    ' + str(row))\n",
    "        \n",
    "        \n",
    "        \n",
    "        "
   ]
  },
  {
   "cell_type": "code",
   "execution_count": 115,
   "metadata": {},
   "outputs": [
    {
     "name": "stdout",
     "output_type": "stream",
     "text": [
      "0.2772588722239781\n"
     ]
    }
   ],
   "source": [
    "p = Partition(np.array(training_data), 0, ['Apple','Grape','Lemon'])\n",
    "print(p.score())"
   ]
  },
  {
   "cell_type": "code",
   "execution_count": 243,
   "metadata": {},
   "outputs": [],
   "source": [
    "class DecisionTree(object):\n",
    "    def __init__(self, X, possible_classes):\n",
    "        self.nodes = {}\n",
    "        self.classes = np.unique(X[:,-1])\n",
    "        if len(self.classes) == 1:\n",
    "            print('class' ,self.classes[0])\n",
    "            self.classified_class = self.classes[0]\n",
    "            \n",
    "        self.classes_map = {}\n",
    "        \n",
    "        self.possible_classes = possible_classes\n",
    "        \n",
    "        min_value = self.find_best_partition(X)\n",
    "        \n",
    "        ##DEBUG\n",
    "#         self.partition.print_()\n",
    "#         print(min_value)\n",
    "        ##\n",
    "        if min_value != 0: # zmienic to chyba niepotrzebne jak beda self.predicted_class\n",
    "            self._build_node()\n",
    "        else:\n",
    "            for k, v in self.partition.decision_map.items():\n",
    "                self.classes_map[k] = v[0][-1]\n",
    "        \n",
    "    def find_best_partition(self, X):\n",
    "        best_partition = None\n",
    "        min_value = 100\n",
    "        for feature_idx in range(len(X[0])-1):\n",
    "            part = Partition(X, feature_idx, self.possible_classes)\n",
    "            score = part.score()\n",
    "            if score < min_value:\n",
    "                min_value = score\n",
    "                best_partition = part\n",
    "        self.partition = best_partition\n",
    "        self.feature_idx = best_partition.feature_idx\n",
    "        return min_value\n",
    "\n",
    "    def _build_node(self):\n",
    "        for k, v in self.partition.decision_map.items():\n",
    "#             print('build', k) # DEBUG\n",
    "            self.nodes[k] = DecisionTree(np.array(v), self.possible_classes)\n",
    "    \n",
    "    \n",
    "    def classify(self, x):\n",
    "        if self.nodes:\n",
    "            return self.nodes[x[self.feature_idx]].classify(x)\n",
    "        else:\n",
    "#             return self.classified_class\n",
    "            return self.classes_map[str(x[self.feature_idx])] # naprawic to classes_map\n",
    "    \n",
    "    \n",
    "    \n",
    "    def print_(self):\n",
    "        self.partition.print_()\n",
    "        print('Children-------------------------------------\\n')\n",
    "        if self.nodes:\n",
    "            for v in self.nodes.values():\n",
    "                v.print_()\n",
    "        print('\\n\\n\\n')"
   ]
  },
  {
   "cell_type": "code",
   "execution_count": 244,
   "metadata": {},
   "outputs": [
    {
     "name": "stdout",
     "output_type": "stream",
     "text": [
      "class Apple\n",
      "class Grape\n",
      "Apple\n"
     ]
    }
   ],
   "source": [
    "d = DecisionTree(np.array(training_data), ['Apple','Grape','Lemon'])\n",
    "print(d.classify(['Yellow', 3, 0]))"
   ]
  }
 ],
 "metadata": {
  "kernelspec": {
   "display_name": "Python 3",
   "language": "python",
   "name": "python3"
  },
  "language_info": {
   "codemirror_mode": {
    "name": "ipython",
    "version": 3
   },
   "file_extension": ".py",
   "mimetype": "text/x-python",
   "name": "python",
   "nbconvert_exporter": "python",
   "pygments_lexer": "ipython3",
   "version": "3.6.1"
  }
 },
 "nbformat": 4,
 "nbformat_minor": 2
}
